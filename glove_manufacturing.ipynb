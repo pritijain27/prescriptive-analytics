{
  "cells": [
    {
      "cell_type": "markdown",
      "metadata": {
        "id": "view-in-github",
        "colab_type": "text"
      },
      "source": [
        "<a href=\"https://colab.research.google.com/github/pritijain27/prescriptive-analytics/blob/main/glove_manufacturing.ipynb\" target=\"_parent\"><img src=\"https://colab.research.google.com/assets/colab-badge.svg\" alt=\"Open In Colab\"/></a>"
      ]
    },
    {
      "cell_type": "markdown",
      "source": [
        "\n",
        "## Glove Manufacturing\n"
      ],
      "metadata": {
        "id": "StdjZOILroyz"
      }
    },
    {
      "cell_type": "markdown",
      "metadata": {
        "id": "7o0PxXyYKwc5"
      },
      "source": [
        "Install amplpy, pandas and other packages."
      ]
    },
    {
      "cell_type": "code",
      "execution_count": 1,
      "metadata": {
        "id": "G004pZj1XA_0",
        "colab": {
          "base_uri": "https://localhost:8080/"
        },
        "outputId": "2ac559ca-d63a-4e3f-d87e-939b8e018082"
      },
      "outputs": [
        {
          "output_type": "stream",
          "name": "stdout",
          "text": [
            "\u001b[2K   \u001b[90m━━━━━━━━━━━━━━━━━━━━━━━━━━━━━━━━━━━━━━━━\u001b[0m \u001b[32m5.6/5.6 MB\u001b[0m \u001b[31m18.9 MB/s\u001b[0m eta \u001b[36m0:00:00\u001b[0m\n",
            "\u001b[?25h"
          ]
        }
      ],
      "source": [
        "!pip install -q amplpy ampltools"
      ]
    },
    {
      "cell_type": "markdown",
      "source": [
        "Setup AMPL and select solvers."
      ],
      "metadata": {
        "id": "G42yc42srDoN"
      }
    },
    {
      "cell_type": "code",
      "execution_count": null,
      "metadata": {
        "id": "bY6nMq3DXIQ9"
      },
      "outputs": [],
      "source": [
        "# Google Colab & AMPL integration\n",
        "MODULES, LICENSE_UUID = [\"coin\", 'gurobi', \"cplex\", \"highs\", \"gokestrel\"], \"42fc7eb6-69aa-445d-b655-3ad24d836541\"\n",
        "from amplpy import tools\n",
        "from ampltools import cloud_platform_name, ampl_notebook, register_magics\n",
        "\n",
        "# instantiate AMPL object and register magics\n",
        "if cloud_platform_name() is None:\n",
        "    ampl = AMPL() # Use local installation of AMPL\n",
        "else:\n",
        "    ampl = tools.ampl_notebook(modules=MODULES, license_uuid=LICENSE_UUID, g=globals())\n",
        "\n",
        "register_magics(ampl_object=ampl)"
      ]
    },
    {
      "cell_type": "markdown",
      "source": [
        "Mount Google Drive"
      ],
      "metadata": {
        "id": "Cz7x5HAtdnxN"
      }
    },
    {
      "cell_type": "code",
      "source": [
        "from google.colab import drive\n",
        "drive.mount('/content/drive')"
      ],
      "metadata": {
        "id": "gOWGyl1YxX9F"
      },
      "execution_count": null,
      "outputs": []
    },
    {
      "cell_type": "markdown",
      "source": [
        "Read data"
      ],
      "metadata": {
        "id": "_CNPjPv4wPfI"
      }
    },
    {
      "cell_type": "code",
      "source": [
        "import pandas as pd\n",
        "\n",
        "process_data = pd.read_excel('/content/drive/MyDrive/645/glove_manufacturing.xlsx',\n",
        "                             sheet_name=\"process\",\n",
        "                             index_col=0)\n",
        "\n",
        "M = list(process_data.index)\n",
        "P = list(process_data)\n",
        "print(P,M)\n",
        "process = process_data.stack().to_dict()\n",
        "print(process)"
      ],
      "metadata": {
        "id": "WrlhbsuRwRAb"
      },
      "execution_count": null,
      "outputs": []
    },
    {
      "cell_type": "markdown",
      "metadata": {
        "id": "X3bxNt92KSGe"
      },
      "source": [
        "\n",
        "Define model."
      ]
    },
    {
      "cell_type": "code",
      "execution_count": null,
      "metadata": {
        "id": "J7BsV3J5YUid"
      },
      "outputs": [],
      "source": [
        "ampl.eval ('''\n",
        "\n",
        "reset;\n",
        "set M;\n",
        "\n",
        "param medium_value {i in M} ;\n",
        "param total_budget ;\n",
        "param min_pct ;\n",
        "param min_ratio_news_to_radio ;\n",
        "\n",
        "var x {i in M} >= 0;\n",
        "\n",
        "\n",
        "maximize total_value_objective: sum{i in M} medium_value[i]*x[i];\n",
        "\n",
        "subject to\n",
        "budget_constraint: sum{i in M} x[i] <= total_budget;\n",
        "min_pct_constraint {i in M}:x[i] >= min_pct*total_budget;\n",
        "min_ratio_constraint: x['newspaper'] >= min_ratio_news_to_radio* x['radio'];\n",
        "\n",
        "''')"
      ]
    },
    {
      "cell_type": "markdown",
      "source": [
        "Provide data to the model."
      ],
      "metadata": {
        "id": "RqFoAqQ7joRa"
      }
    },
    {
      "cell_type": "code",
      "source": [
        "ampl.set['M'] = M\n",
        "\n",
        "ampl.param['medium_value'] = medium_value\n",
        "ampl.param['total_budget'] = total_budget\n",
        "ampl.param['min_pct'] = min_pct\n",
        "ampl.param['min_ratio_news_to_radio'] = min_ratio_news_to_radio\n",
        "\n"
      ],
      "metadata": {
        "id": "JIQOq8TzCeZD"
      },
      "execution_count": null,
      "outputs": []
    },
    {
      "cell_type": "markdown",
      "source": [
        "Display problem formulation."
      ],
      "metadata": {
        "id": "V_j5u7b8BkNk"
      }
    },
    {
      "cell_type": "code",
      "source": [
        "ampl.eval('''expand;''')\n",
        "#ampl.eval('''expand x;''')"
      ],
      "metadata": {
        "id": "2PJurB0O7K5l"
      },
      "execution_count": null,
      "outputs": []
    },
    {
      "cell_type": "markdown",
      "source": [
        "Set solver and solve."
      ],
      "metadata": {
        "id": "Fx_sqpPYBevu"
      }
    },
    {
      "cell_type": "code",
      "source": [
        "ampl.setOption('solver', 'cplex')\n",
        "ampl.solve()"
      ],
      "metadata": {
        "id": "xlqpM_cq6HT5"
      },
      "execution_count": null,
      "outputs": []
    },
    {
      "cell_type": "markdown",
      "source": [
        "Print solution and results."
      ],
      "metadata": {
        "id": "OMMsJvISBs2g"
      }
    },
    {
      "cell_type": "code",
      "execution_count": null,
      "metadata": {
        "id": "4wnRfyDmKSGi"
      },
      "outputs": [],
      "source": [
        "# Print results\n",
        "obj = ampl.getObjective('profit_objective')\n",
        "print(\"\\n\")\n",
        "print(\"Total profit is: \", obj.get().value(), \"\\n\")\n",
        "print(\"Units Produced:\")\n",
        "ampl.display('x');"
      ]
    },
    {
      "cell_type": "markdown",
      "metadata": {
        "id": "ajPh-mPVKSGj"
      },
      "source": [
        "The optimal solution is to produce 1.8 gallons of peach lemonade and 1.6 gallons of raspberry lemonade for a profit of \\$33.60."
      ]
    },
    {
      "cell_type": "code",
      "source": [],
      "metadata": {
        "id": "R8WL1IxVCyVx"
      },
      "execution_count": null,
      "outputs": []
    }
  ],
  "metadata": {
    "colab": {
      "provenance": [],
      "include_colab_link": true
    },
    "kernelspec": {
      "display_name": "Python 3 (ipykernel)",
      "language": "python",
      "name": "python3"
    },
    "language_info": {
      "codemirror_mode": {
        "name": "ipython",
        "version": 3
      },
      "file_extension": ".py",
      "mimetype": "text/x-python",
      "name": "python",
      "nbconvert_exporter": "python",
      "pygments_lexer": "ipython3",
      "version": "3.9.13"
    }
  },
  "nbformat": 4,
  "nbformat_minor": 0
}