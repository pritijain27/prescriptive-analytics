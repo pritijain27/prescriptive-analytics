{
  "nbformat": 4,
  "nbformat_minor": 0,
  "metadata": {
    "colab": {
      "provenance": [],
      "authorship_tag": "ABX9TyMADpBjUqQo4RtWPKk1y3Dm",
      "include_colab_link": true
    },
    "kernelspec": {
      "name": "python3",
      "display_name": "Python 3"
    },
    "language_info": {
      "name": "python"
    }
  },
  "cells": [
    {
      "cell_type": "markdown",
      "metadata": {
        "id": "view-in-github",
        "colab_type": "text"
      },
      "source": [
        "<a href=\"https://colab.research.google.com/github/pritijain27/prescriptive-analytics/blob/main/Copy_of_my_first_notebook.ipynb\" target=\"_parent\"><img src=\"https://colab.research.google.com/assets/colab-badge.svg\" alt=\"Open In Colab\"/></a>"
      ]
    },
    {
      "cell_type": "code",
      "execution_count": null,
      "metadata": {
        "id": "SnzxoryG3LcA"
      },
      "outputs": [],
      "source": [
        "x=1"
      ]
    },
    {
      "cell_type": "code",
      "source": [
        "print(x)"
      ],
      "metadata": {
        "colab": {
          "base_uri": "https://localhost:8080/"
        },
        "id": "kphtvJN33Tk7",
        "outputId": "58da311f-97e8-406b-975d-9710c65c6630"
      },
      "execution_count": null,
      "outputs": [
        {
          "output_type": "stream",
          "name": "stdout",
          "text": [
            "1\n"
          ]
        }
      ]
    },
    {
      "cell_type": "code",
      "source": [
        "x=\"hello world\""
      ],
      "metadata": {
        "id": "ZWGS9f423WlF"
      },
      "execution_count": 1,
      "outputs": []
    },
    {
      "cell_type": "code",
      "source": [
        "print(x)"
      ],
      "metadata": {
        "colab": {
          "base_uri": "https://localhost:8080/"
        },
        "id": "Pjxst27e3mv9",
        "outputId": "c2d31c90-8daf-42f9-ad63-3687716e6661"
      },
      "execution_count": 2,
      "outputs": [
        {
          "output_type": "stream",
          "name": "stdout",
          "text": [
            "hello world\n"
          ]
        }
      ]
    },
    {
      "cell_type": "code",
      "source": [
        "M=[\"radio\", \"newspaper\"]"
      ],
      "metadata": {
        "id": "m0ZrAtIm3sfE"
      },
      "execution_count": 3,
      "outputs": []
    },
    {
      "cell_type": "code",
      "source": [
        "print(M)"
      ],
      "metadata": {
        "colab": {
          "base_uri": "https://localhost:8080/"
        },
        "id": "HkzkUdjB4NAo",
        "outputId": "1a278fec-4d1f-4feb-dea0-8b3a197a570b"
      },
      "execution_count": 4,
      "outputs": [
        {
          "output_type": "stream",
          "name": "stdout",
          "text": [
            "['radio', 'newspaper']\n"
          ]
        }
      ]
    },
    {
      "cell_type": "code",
      "source": [
        "medium_value={\"radio\":80,\"newspaper\":50}"
      ],
      "metadata": {
        "id": "Oy-agzvr4Vfg"
      },
      "execution_count": 5,
      "outputs": []
    },
    {
      "cell_type": "code",
      "source": [
        "print(medium_value)"
      ],
      "metadata": {
        "colab": {
          "base_uri": "https://localhost:8080/"
        },
        "id": "0EQOwCOk4hEv",
        "outputId": "e9ac6b57-252e-4ff4-df1a-7bd818282cdf"
      },
      "execution_count": 6,
      "outputs": [
        {
          "output_type": "stream",
          "name": "stdout",
          "text": [
            "{'radio': 80, 'newspaper': 50}\n"
          ]
        }
      ]
    },
    {
      "cell_type": "code",
      "source": [],
      "metadata": {
        "id": "47JzHh9x4lVp"
      },
      "execution_count": null,
      "outputs": []
    }
  ]
}