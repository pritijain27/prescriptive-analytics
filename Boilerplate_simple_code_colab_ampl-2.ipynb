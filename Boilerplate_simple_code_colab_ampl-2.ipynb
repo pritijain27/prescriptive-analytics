{
  "cells": [
    {
      "cell_type": "markdown",
      "metadata": {
        "id": "mfUXNHyOKSGZ"
      },
      "source": [
        "# Title of Model/Problem"
      ]
    },
    {
      "cell_type": "markdown",
      "source": [
        "#Sea wharf advertising budget allocation\n"
      ],
      "metadata": {
        "id": "XTMNivgO70xq"
      }
    },
    {
      "cell_type": "markdown",
      "metadata": {
        "id": "7o0PxXyYKwc5"
      },
      "source": [
        "Install amplpy and other packages"
      ]
    },
    {
      "cell_type": "code",
      "source": [],
      "metadata": {
        "id": "1TnqYy1oGseW"
      },
      "execution_count": null,
      "outputs": []
    },
    {
      "cell_type": "code",
      "source": [
        "# Install dependencies\n",
        "!pip install -q amplpy ampltools"
      ],
      "metadata": {
        "id": "fS7wuQ7283I_"
      },
      "execution_count": 36,
      "outputs": []
    },
    {
      "cell_type": "code",
      "execution_count": 37,
      "metadata": {
        "id": "bY6nMq3DXIQ9",
        "colab": {
          "base_uri": "https://localhost:8080/"
        },
        "outputId": "15a8cfc7-8569-4a29-e95f-bd26c326d228"
      },
      "outputs": [
        {
          "output_type": "stream",
          "name": "stdout",
          "text": [
            "Licensed to Bundle #6741.7193 expiring 20241231: INFO 645 Prescriptive Analytics, Prof. Paul Brooks, Virginia Commonwealth University.\n"
          ]
        }
      ],
      "source": [
        "# Google Colab & AMPL integration\n",
        "MODULES, LICENSE_UUID = [\"coin\", 'gurobi', \"cplex\", \"highs\", \"gokestrel\"], \"42fc7eb6-69aa-445d-b655-3ad24d836541\"\n",
        "from amplpy import tools\n",
        "from ampltools import cloud_platform_name, ampl_notebook, register_magics\n",
        "\n",
        "# instantiate AMPL object and register magics\n",
        "if cloud_platform_name() is None:\n",
        "    ampl = AMPL() # Use local installation of AMPL\n",
        "else:\n",
        "    ampl = tools.ampl_notebook(modules=MODULES, license_uuid=LICENSE_UUID, g=globals())\n",
        "\n",
        "register_magics(ampl_object=ampl)"
      ]
    },
    {
      "cell_type": "markdown",
      "metadata": {
        "id": "X3bxNt92KSGe"
      },
      "source": [
        "Define model."
      ]
    },
    {
      "cell_type": "code",
      "execution_count": 38,
      "metadata": {
        "id": "J7BsV3J5YUid"
      },
      "outputs": [],
      "source": [
        "ampl.eval ('''\n",
        "reset;\n",
        "set M;\n",
        "param medium_value{i in M};\n",
        "param total_budget;\n",
        "param min_pct;\n",
        "param min_ratio_news_to_radio;\n",
        "var x{i in M} >= 0;\n",
        "\n",
        "maximize total_value_objective: sum{i in M} medium_value[i]*x[i];\n",
        "subject to budget_constraint: sum{i in M} x[i]<=total_budget;\n",
        "subject to min_pct_constraint {i in M}: x[i] >= min_pct*total_budget;\n",
        "subject to min_ratio_news_to_radio_constraint: x['newspaper']/x['radio'] >= min_ratio_news_to_radio;\n",
        "\n",
        "''')"
      ]
    },
    {
      "cell_type": "code",
      "source": [
        "medium_value={\"radio\":80,\"newspaper\":50}"
      ],
      "metadata": {
        "id": "570fIi1eLqtK"
      },
      "execution_count": 39,
      "outputs": []
    },
    {
      "cell_type": "code",
      "source": [
        "M=[\"radio\", \"newspaper\"]"
      ],
      "metadata": {
        "id": "GmPQux_uLLf_"
      },
      "execution_count": 40,
      "outputs": []
    },
    {
      "cell_type": "code",
      "source": [
        "print(medium_value)"
      ],
      "metadata": {
        "colab": {
          "base_uri": "https://localhost:8080/"
        },
        "id": "Nd6HGgi2Lt_x",
        "outputId": "8e7ad09e-66e0-47c0-c2be-bf403799c162"
      },
      "execution_count": 41,
      "outputs": [
        {
          "output_type": "stream",
          "name": "stdout",
          "text": [
            "{'radio': 80, 'newspaper': 50}\n"
          ]
        }
      ]
    },
    {
      "cell_type": "markdown",
      "source": [
        "Define data and provide to AMPL model"
      ],
      "metadata": {
        "id": "CpNeupDBeJc9"
      }
    },
    {
      "cell_type": "code",
      "source": [
        "\n",
        "ampl.set['M'] = M\n",
        "ampl.param['medium_value'] = medium_value\n",
        "ampl.param['min_pct'] = 0.25\n",
        "ampl.param['total_budget'] = 1000\n",
        "ampl.param['min_ratio_news_to_radio'] = 2.0\n",
        "..."
      ],
      "metadata": {
        "id": "k1a5MokQbjxe",
        "colab": {
          "base_uri": "https://localhost:8080/"
        },
        "outputId": "db60781c-fa64-48c8-a3c5-1761e16d39d8"
      },
      "execution_count": 42,
      "outputs": [
        {
          "output_type": "execute_result",
          "data": {
            "text/plain": [
              "Ellipsis"
            ]
          },
          "metadata": {},
          "execution_count": 42
        }
      ]
    },
    {
      "cell_type": "markdown",
      "source": [
        "Use ampl.expand to confirm AMPL model syntax is working"
      ],
      "metadata": {
        "id": "ZC7KKSVGewbs"
      }
    },
    {
      "cell_type": "code",
      "source": [
        "ampl.eval('''expand;''')"
      ],
      "metadata": {
        "id": "Ep-cYlcVevTv",
        "colab": {
          "base_uri": "https://localhost:8080/"
        },
        "outputId": "36902f58-7a99-4108-f1dd-c9d300f138c7"
      },
      "execution_count": 43,
      "outputs": [
        {
          "output_type": "stream",
          "name": "stdout",
          "text": [
            "maximize total_value_objective:\n",
            "\t80*x['radio'] + 50*x['newspaper'];\n",
            "\n",
            "subject to budget_constraint:\n",
            "\tx['radio'] + x['newspaper'] <= 1000;\n",
            "\n",
            "subject to min_pct_constraint['radio']:\n",
            "\tx['radio'] >= 250;\n",
            "\n",
            "subject to min_pct_constraint['newspaper']:\n",
            "\tx['newspaper'] >= 250;\n",
            "\n",
            "subject to min_ratio_news_to_radio_constraint\n",
            "\t:\n",
            "\tx['newspaper']/x['radio'] >= 2;\n",
            "\n"
          ]
        }
      ]
    },
    {
      "cell_type": "markdown",
      "source": [
        "Set solver option and solve"
      ],
      "metadata": {
        "id": "l17TyzRBeqbk"
      }
    },
    {
      "cell_type": "code",
      "source": [
        "ampl.setOption('solver', 'cbc')\n",
        "ampl.solve()"
      ],
      "metadata": {
        "id": "xlqpM_cq6HT5",
        "colab": {
          "base_uri": "https://localhost:8080/"
        },
        "outputId": "4b72fd90-427e-41da-df8b-6bbfac6775ca"
      },
      "execution_count": 44,
      "outputs": [
        {
          "output_type": "stream",
          "name": "stdout",
          "text": [
            "cbc 2.10.10: Cbc3007W No integer variables - nothing to do\n",
            "\n",
            "------------ WARNINGS ------------\n",
            "WARNING.  3 case(s) of \"PLApprox\". One of them:\n",
            "  An expression of type 'Pow' has been\n",
            "piecewise-linearly approximated. Set cvt:plapprox:reltol\n",
            "to control precision (currently 0.010000).\n",
            "WARNING.  3 case(s) of \"PLApproxDomain\". One of them:\n",
            "  Argument domain of a 'Pow'\n",
            "has been reduced to [-316.227766, 316.227766] for numerical reasons\n",
            "(partially controlled by cvt:plapprox:domain.)\n",
            "cbc 2.10.10: optimal solution; objective 59420.02421\n",
            "0 simplex iterations\n",
            " \n",
            "------------ WARNINGS ------------\n",
            "WARNING.  3 case(s) of \"PLApprox\". One of them:\n",
            "  An expression of type 'Pow' has been\n",
            "piecewise-linearly approximated. Set cvt:plapprox:reltol\n",
            "to control precision (currently 0.010000).\n",
            "WARNING.  3 case(s) of \"PLApproxDomain\". One of them:\n",
            "  Argument domain of a 'Pow'\n",
            "has been reduced to [-316.227766, 316.227766] for numerical reasons\n",
            "(partially controlled by cvt:plapprox:domain.)\n",
            "WARNING:  \"Tolerance violations\"\n",
            "  Type                         MaxAbs [Name]   MaxRel [Name]\n",
            "* expr '_div'                  2E-01           9E-02         \n",
            "*: Using the solver's aux variable values.\n",
            "Documentation: mp.ampl.com/modeling-tools.html#automatic-solution-check.\n"
          ]
        }
      ]
    },
    {
      "cell_type": "markdown",
      "source": [
        "Get and print results"
      ],
      "metadata": {
        "id": "H5Wr2we6e89E"
      }
    },
    {
      "cell_type": "code",
      "execution_count": 45,
      "metadata": {
        "id": "4wnRfyDmKSGi",
        "colab": {
          "base_uri": "https://localhost:8080/"
        },
        "outputId": "0c1e14fd-4af5-484d-950a-8ee889f552db"
      },
      "outputs": [
        {
          "output_type": "stream",
          "name": "stdout",
          "text": [
            "\n",
            " Total exposure is:  59420.024209424526 \n",
            "\n",
            "allocation:\n",
            "x [*] :=\n",
            "newspaper  685.999\n",
            "    radio  314.001\n",
            ";\n",
            "\n"
          ]
        }
      ],
      "source": [
        "# Print results\n",
        "obj = ampl.get_objective('total_value_objective')\n",
        "print(\"\\n\", \"Total exposure is: \", obj.get().value(), \"\\n\")\n",
        "print(\"allocation:\")\n",
        "ampl.display('x');"
      ]
    },
    {
      "cell_type": "code",
      "source": [],
      "metadata": {
        "id": "FVY8hCjSG_yI"
      },
      "execution_count": null,
      "outputs": []
    },
    {
      "cell_type": "markdown",
      "metadata": {
        "id": "ajPh-mPVKSGj"
      },
      "source": [
        "The optimal solution is to allocate $666.67 to newspaper advertising and $333.33 to radio , for a total $1000 of ..."
      ]
    }
  ],
  "metadata": {
    "colab": {
      "provenance": []
    },
    "kernelspec": {
      "display_name": "Python 3 (ipykernel)",
      "language": "python",
      "name": "python3"
    },
    "language_info": {
      "codemirror_mode": {
        "name": "ipython",
        "version": 3
      },
      "file_extension": ".py",
      "mimetype": "text/x-python",
      "name": "python",
      "nbconvert_exporter": "python",
      "pygments_lexer": "ipython3",
      "version": "3.9.13"
    }
  },
  "nbformat": 4,
  "nbformat_minor": 0
}